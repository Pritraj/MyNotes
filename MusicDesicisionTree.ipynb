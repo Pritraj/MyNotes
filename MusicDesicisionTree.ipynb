{
  "nbformat": 4,
  "nbformat_minor": 0,
  "metadata": {
    "colab": {
      "provenance": [],
      "mount_file_id": "1gTHCCk0sI8nAoRc4DzNX4tWTb6JZEekH",
      "authorship_tag": "ABX9TyNGQkcp7CBPQv/tRQRpRoTg",
      "include_colab_link": true
    },
    "kernelspec": {
      "name": "python3",
      "display_name": "Python 3"
    },
    "language_info": {
      "name": "python"
    }
  },
  "cells": [
    {
      "cell_type": "markdown",
      "metadata": {
        "id": "view-in-github",
        "colab_type": "text"
      },
      "source": [
        "<a href=\"https://colab.research.google.com/github/Pritraj/MyNotes/blob/master/MusicDesicisionTree.ipynb\" target=\"_parent\"><img src=\"https://colab.research.google.com/assets/colab-badge.svg\" alt=\"Open In Colab\"/></a>"
      ]
    },
    {
      "cell_type": "code",
      "execution_count": 32,
      "metadata": {
        "colab": {
          "base_uri": "https://localhost:8080/"
        },
        "id": "qPILjp3mNGpr",
        "outputId": "1f7c07f6-814d-4d4e-b57f-448321b6ff9f"
      },
      "outputs": [
        {
          "output_type": "stream",
          "name": "stdout",
          "text": [
            "accuracy =  0.25\n"
          ]
        },
        {
          "output_type": "execute_result",
          "data": {
            "text/plain": [
              "array(['HipHop'], dtype=object)"
            ]
          },
          "metadata": {},
          "execution_count": 32
        }
      ],
      "source": [
        "import pandas as pd\n",
        "from sklearn.tree import DecisionTreeClassifier\n",
        "from sklearn.model_selection import train_test_split\n",
        "from sklearn.metrics import accuracy_score\n",
        "import joblib\n",
        "\n",
        "music_data = pd.read_csv('/content/drive/MyDrive/Colab Notebooks/music.csv')\n",
        "X = music_data.drop(columns=[\"genre\"])\n",
        "y = music_data[\"genre\"]\n",
        "\n",
        "X_train, X_test, y_train, y_test = train_test_split(X, y, test_size=0.2)\n",
        "\n",
        "model = DecisionTreeClassifier()\n",
        "model.fit(X_train.values,y_train.values)\n",
        "\n",
        "predictions = model.predict(X_test.values)\n",
        "score = accuracy_score(y_test, predictions)\n",
        "print(\"accuracy = \", score)\n",
        "# Save model\n",
        "model = DecisionTreeClassifier()\n",
        "model.fit(X.values,y.values)\n",
        "\n",
        "joblib.dump(model, \"/content/drive/MyDrive/Colab Notebooks/music-recommender.joblib\")\n",
        "model = joblib.load(\"/content/drive/MyDrive/Colab Notebooks/music-recommender.joblib\")\n",
        "\n",
        "predictions = model.predict([[21,1]])\n",
        "predictions"
      ]
    }
  ]
}